{
  "cells": [
    {
      "cell_type": "code",
      "execution_count": null,
      "metadata": {
        "id": "4UW8KHx3zjuB"
      },
      "outputs": [],
      "source": [
        "import sys\n",
        "assert sys.version_info >= (3,5)"
      ]
    },
    {
      "cell_type": "code",
      "execution_count": null,
      "metadata": {
        "id": "aYjETEk9zwyC"
      },
      "outputs": [],
      "source": [
        "import sklearn\n",
        "assert sklearn.__version__ >= \"0.20\""
      ]
    },
    {
      "cell_type": "code",
      "execution_count": null,
      "metadata": {
        "id": "DTDLgj1Cz1Ic"
      },
      "outputs": [],
      "source": [
        "import pandas as pd"
      ]
    },
    {
      "cell_type": "code",
      "execution_count": null,
      "metadata": {
        "id": "oVlMpei5z2aK"
      },
      "outputs": [],
      "source": [
        "import numpy as np"
      ]
    },
    {
      "cell_type": "code",
      "execution_count": null,
      "metadata": {
        "id": "w13pLLorz5Ed"
      },
      "outputs": [],
      "source": [
        "%matplotlib inline\n",
        "import matplotlib as mpl\n",
        "import matplotlib.pyplot as plt"
      ]
    },
    {
      "cell_type": "code",
      "execution_count": null,
      "metadata": {
        "id": "LYagk5fA5PWH"
      },
      "outputs": [],
      "source": [
        "from sklearn.preprocessing import OrdinalEncoder\n",
        "ordinal_encoder = OrdinalEncoder()"
      ]
    },
    {
      "cell_type": "code",
      "execution_count": null,
      "metadata": {
        "id": "05u3GdTGR-Ze"
      },
      "outputs": [],
      "source": [
        "from pandas.plotting import scatter_matrix"
      ]
    },
    {
      "cell_type": "code",
      "execution_count": null,
      "metadata": {},
      "outputs": [],
      "source": [
        "import warnings\n",
        "warnings.filterwarnings('ignore')"
      ]
    },
    {
      "cell_type": "code",
      "execution_count": null,
      "metadata": {
        "id": "PDT0Xttm-WDT"
      },
      "outputs": [],
      "source": [
        "happiness=pd.read_csv('./Data/happiness.csv')"
      ]
    },
    {
      "cell_type": "code",
      "execution_count": null,
      "metadata": {
        "colab": {
          "base_uri": "https://localhost:8080/",
          "height": 365
        },
        "id": "ZELB56jf-an9",
        "outputId": "ca4f62f5-2a80-45ad-890c-46d2fc77ad76"
      },
      "outputs": [],
      "source": [
        "happiness.head()\n"
      ]
    },
    {
      "cell_type": "code",
      "execution_count": null,
      "metadata": {
        "colab": {
          "base_uri": "https://localhost:8080/"
        },
        "id": "bgZYOwXbRL9R",
        "outputId": "bd0028e8-1524-42e9-a800-7326c695234f"
      },
      "outputs": [],
      "source": [
        "happiness.info()"
      ]
    },
    {
      "cell_type": "code",
      "execution_count": null,
      "metadata": {
        "colab": {
          "base_uri": "https://localhost:8080/"
        },
        "id": "WTmJwH7PQ-GS",
        "outputId": "84edbdc6-acd7-4ce2-da64-b8b953388c75"
      },
      "outputs": [],
      "source": [
        "happiness[\"Region\"].value_counts()"
      ]
    },
    {
      "cell_type": "code",
      "execution_count": null,
      "metadata": {
        "colab": {
          "base_uri": "https://localhost:8080/",
          "height": 355
        },
        "id": "9j9zKu2yR9Aa",
        "outputId": "4ce376f6-832d-45d9-8abe-b0cade6c3e27"
      },
      "outputs": [],
      "source": [
        "happiness.describe()"
      ]
    },
    {
      "cell_type": "code",
      "execution_count": null,
      "metadata": {
        "colab": {
          "base_uri": "https://localhost:8080/",
          "height": 532
        },
        "id": "rEawUC9CSU8n",
        "outputId": "ae6332cb-5f75-45a7-e760-317c796cdce2"
      },
      "outputs": [],
      "source": [
        "happiness.hist(bins=50, figsize=(20,15))\n",
        "plt.show()"
      ]
    },
    {
      "cell_type": "code",
      "execution_count": null,
      "metadata": {
        "colab": {
          "base_uri": "https://localhost:8080/",
          "height": 467
        },
        "id": "Vm5_Az5EAk9P",
        "outputId": "6293c6ad-7e72-49d6-a20c-007b75736ecf"
      },
      "outputs": [],
      "source": [
        "happiness.plot(kind=\"scatter\", x=\"Happiness Score\", y=\"Economy (GDP per Capita)\")"
      ]
    },
    {
      "cell_type": "code",
      "execution_count": null,
      "metadata": {
        "colab": {
          "base_uri": "https://localhost:8080/",
          "height": 466
        },
        "id": "gZCFj8a-A5-R",
        "outputId": "74eb7212-3665-48d3-962e-9b35ac1ef037"
      },
      "outputs": [],
      "source": [
        "happiness.plot(kind=\"scatter\", x=\"Happiness Score\", y=\"Family\")"
      ]
    },
    {
      "cell_type": "code",
      "execution_count": null,
      "metadata": {
        "colab": {
          "base_uri": "https://localhost:8080/",
          "height": 470
        },
        "id": "XtNEuU_YB_mC",
        "outputId": "7dfe031d-cf1b-481b-d50d-9e55fe8ee037"
      },
      "outputs": [],
      "source": [
        "happiness.plot(kind=\"scatter\", x=\"Happiness Score\", y=\"Freedom\")"
      ]
    },
    {
      "cell_type": "code",
      "execution_count": null,
      "metadata": {
        "colab": {
          "base_uri": "https://localhost:8080/",
          "height": 386
        },
        "id": "wvCATFcvBMdV",
        "outputId": "1aa2aa1c-1b74-4cdd-a53c-5f1dd738aa31"
      },
      "outputs": [],
      "source": [
        "happiness.plot(kind=\"scatter\",x=\"Economy (GDP per Capita)\",y=\"Family\",alpha=0.5,\n",
        "          s=happiness['Health (Life Expectancy)']*100, label=\"Health\",\n",
        "          c=happiness[\"Happiness Score\"],figsize=(18,8),cmap=plt.get_cmap(\"jet\"),colorbar=True,\n",
        "          )\n",
        "plt.legend()"
      ]
    },
    {
      "cell_type": "code",
      "execution_count": null,
      "metadata": {
        "colab": {
          "base_uri": "https://localhost:8080/",
          "height": 1000
        },
        "id": "vHkLlrCtATwd",
        "outputId": "36ae4dd7-8431-4614-e479-1289c12634c3"
      },
      "outputs": [],
      "source": [
        "scatter_matrix(happiness, figsize=(12, 8))"
      ]
    },
    {
      "cell_type": "code",
      "execution_count": null,
      "metadata": {
        "colab": {
          "base_uri": "https://localhost:8080/",
          "height": 466
        },
        "id": "cLCPsMBiA9-x",
        "outputId": "e5608a8a-0df8-4978-acf6-dc60180214fd"
      },
      "outputs": [],
      "source": [
        "happiness.plot(kind=\"scatter\", x=\"Happiness Score\", y=\"Health (Life Expectancy)\")"
      ]
    },
    {
      "cell_type": "code",
      "execution_count": null,
      "metadata": {
        "colab": {
          "base_uri": "https://localhost:8080/",
          "height": 467
        },
        "id": "X1-ceEn5WSd3",
        "outputId": "6293c6ad-7e72-49d6-a20c-007b75736ecf"
      },
      "outputs": [],
      "source": [
        "happiness.plot(kind=\"scatter\", x=\"Happiness Score\", y=\"Economy (GDP per Capita)\")"
      ]
    },
    {
      "cell_type": "code",
      "execution_count": null,
      "metadata": {
        "id": "1Clnnbiy-6wk"
      },
      "outputs": [],
      "source": [
        "happiness['Region'] = ordinal_encoder.fit_transform(happiness[[\"Region\"]])"
      ]
    },
    {
      "cell_type": "code",
      "execution_count": null,
      "metadata": {
        "id": "M9GOwPsw_IN_"
      },
      "outputs": [],
      "source": [
        "happiness['Region']"
      ]
    },
    {
      "cell_type": "code",
      "execution_count": null,
      "metadata": {},
      "outputs": [],
      "source": [
        "attributes = ['Happiness Score','Economy (GDP per Capita)','Family','Health (Life Expectancy)','Freedom','Dystopia Residual','Trust (Government Corruption)','Happiness Rank']"
      ]
    },
    {
      "cell_type": "code",
      "execution_count": null,
      "metadata": {},
      "outputs": [],
      "source": [
        "happiness_corr = happiness[attributes].corr()\n",
        "happiness_corr['Happiness Score'].sort_values(ascending=False)"
      ]
    },
    {
      "cell_type": "code",
      "execution_count": null,
      "metadata": {},
      "outputs": [],
      "source": [
        "happiness[attributes].describe()"
      ]
    },
    {
      "cell_type": "code",
      "execution_count": null,
      "metadata": {},
      "outputs": [],
      "source": [
        "from sklearn.preprocessing import MinMaxScaler"
      ]
    },
    {
      "cell_type": "code",
      "execution_count": null,
      "metadata": {},
      "outputs": [],
      "source": [
        "scaler = MinMaxScaler()\n",
        "attr = ['Family','Health (Life Expectancy)','Economy (GDP per Capita)','Freedom','Dystopia Residual','Trust (Government Corruption)']"
      ]
    },
    {
      "cell_type": "code",
      "execution_count": null,
      "metadata": {},
      "outputs": [],
      "source": [
        "happiness[attr] = pd.DataFrame(scaler.fit_transform(happiness[attr].values), columns=attr)"
      ]
    },
    {
      "cell_type": "code",
      "execution_count": null,
      "metadata": {},
      "outputs": [],
      "source": [
        "happiness.head()"
      ]
    },
    {
      "cell_type": "code",
      "execution_count": null,
      "metadata": {},
      "outputs": [],
      "source": [
        "null_rows=happiness[happiness.isnull().any(axis=1)].head()\n",
        "null_rows"
      ]
    },
    {
      "cell_type": "code",
      "execution_count": null,
      "metadata": {},
      "outputs": [],
      "source": [
        "happiness=happiness.drop(\"Generosity\", axis=1)\n",
        "happiness=happiness.drop(\"Region\", axis=1)\n",
        "happiness=happiness.drop(\"Country\", axis=1)\n",
        "happiness=happiness.drop(\"Happiness Rank\", axis=1)\n",
        "happiness"
      ]
    },
    {
      "cell_type": "code",
      "execution_count": null,
      "metadata": {},
      "outputs": [],
      "source": [
        "happiness.head()"
      ]
    },
    {
      "cell_type": "markdown",
      "metadata": {},
      "source": [
        "Lab 3 Working"
      ]
    },
    {
      "cell_type": "code",
      "execution_count": null,
      "metadata": {},
      "outputs": [],
      "source": [
        "happiness_corr = happiness[[\"Happiness Score\",\"Economy (GDP per Capita)\",\"Family\",\"Health (Life Expectancy)\",\"Freedom\",\"Trust (Government Corruption)\",\"Dystopia Residual\"]].corr()\n",
        "happiness_corr['Happiness Score'].sort_values(ascending=False)\n",
        "# Checking the correlation of different features with the main class"
      ]
    },
    {
      "cell_type": "code",
      "execution_count": null,
      "metadata": {},
      "outputs": [],
      "source": [
        "happiness.describe()\n",
        "\n",
        "# 2500 - 5000 - Low\n",
        "# 5000 - 7500 - Medium\n",
        "# 7500 - 10000 - High\n",
        "\n",
        "happiness[\"Happiness Score\"] = pd.cut(happiness[\"Happiness Score\"],\n",
        "                                      bins=[2.500000,5.000000,7.500000,10.000000],\n",
        "                                      labels=[\"Low\",\"Medium\",\"High\"])\n",
        "\n",
        "#Discretizationhe of val with the bin width of 2.500000uest"
      ]
    },
    {
      "cell_type": "code",
      "execution_count": null,
      "metadata": {},
      "outputs": [],
      "source": [
        "happiness[\"Happiness Score\"].hist()"
      ]
    },
    {
      "cell_type": "code",
      "execution_count": null,
      "metadata": {},
      "outputs": [],
      "source": [
        "happiness[\"Happiness Score\"] = ordinal_encoder.fit_transform(happiness[[\"Happiness Score\"]])\n",
        "#converts different bin values into number"
      ]
    },
    {
      "cell_type": "code",
      "execution_count": null,
      "metadata": {},
      "outputs": [],
      "source": [
        "happiness.head()"
      ]
    },
    {
      "cell_type": "code",
      "execution_count": null,
      "metadata": {},
      "outputs": [],
      "source": [
        "happiness1data = happiness.copy()\n",
        "happiness1data.loc[happiness['Happiness Score'] == 0.,'Happiness Score'] = 1\n",
        "happiness1data.loc[happiness['Happiness Score'] != 0.,'Happiness Score'] = 0\n",
        "\n",
        "happiness1data[happiness1data['Happiness Score']==1].head()"
      ]
    },
    {
      "cell_type": "code",
      "execution_count": null,
      "metadata": {},
      "outputs": [],
      "source": [
        "happiness2data = happiness.copy()\n",
        "happiness2data.loc[happiness['Happiness Score'] == 1.,'Happiness Score'] = 1\n",
        "happiness2data.loc[happiness['Happiness Score'] != 1.,'Happiness Score'] = 0\n",
        "\n",
        "happiness2data[happiness2data['Happiness Score']==1].head()"
      ]
    },
    {
      "cell_type": "code",
      "execution_count": null,
      "metadata": {},
      "outputs": [],
      "source": [
        "happiness3data = happiness.copy()\n",
        "happiness3data.loc[happiness['Happiness Score'] == 2.,'Happiness Score'] = 1\n",
        "happiness3data.loc[happiness['Happiness Score'] != 2.,'Happiness Score'] = 0\n",
        "\n",
        "happiness3data[happiness3data['Happiness Score']==1].head()"
      ]
    },
    {
      "cell_type": "code",
      "execution_count": null,
      "metadata": {},
      "outputs": [],
      "source": [
        "# # groupedtemp = happiness.groupby(happiness[\"Happiness Score\"]>=2.500000)\n",
        "# # grouped = groupedtemp.get_group(True).groupby(happiness[\"Happiness Score\"]<5.000000)\n",
        "# # happiness1data = grouped.get_group(True)\n",
        "\n",
        "# # groupedtemp = happiness.groupby(happiness[\"Happiness Score\"]>=5.000000)\n",
        "# # grouped = groupedtemp.get_group(True).groupby(happiness[\"Happiness Score\"]<7.500000)\n",
        "# # happiness2data = grouped.get_group(True)\n",
        "\n",
        "# # groupedtemp = happiness.groupby(happiness[\"Happiness Score\"]>=7.500000)\n",
        "# # grouped = groupedtemp.get_group(True).groupby(happiness[\"Happiness Score\"]<10.000000)\n",
        "# # happiness3data = grouped.get_group(True)\n",
        "\n",
        "# happiness1data = happiness\n",
        "# happiness1data.loc[happiness['Happiness Score'] == 2.,'Happiness Score'] = 1\n",
        "# happiness1data.loc[happiness['Happiness Score'] != 2.,'Happiness Score'] = 0"
      ]
    },
    {
      "cell_type": "code",
      "execution_count": null,
      "metadata": {},
      "outputs": [],
      "source": [
        "\n",
        "# happiness2data = happiness\n",
        "# happiness2data.loc[happiness['Happiness Score'] == 2.,'Happiness Score'] = 1\n",
        "# happiness2data.loc[happiness['Happiness Score'] != 2.,'Happiness Score'] = 0"
      ]
    },
    {
      "cell_type": "code",
      "execution_count": null,
      "metadata": {},
      "outputs": [],
      "source": [
        "happinesscorr1 = happiness1data.corr()\n",
        "happinesscorr1[\"Happiness Score\"].sort_values(ascending=False)"
      ]
    },
    {
      "cell_type": "code",
      "execution_count": null,
      "metadata": {},
      "outputs": [],
      "source": [
        "happinesscorr2 = happiness2data.corr()\n",
        "happinesscorr2[\"Happiness Score\"].sort_values(ascending=False)"
      ]
    },
    {
      "cell_type": "code",
      "execution_count": null,
      "metadata": {},
      "outputs": [],
      "source": [
        "happinesscorr3 = happiness3data.corr()\n",
        "happinesscorr3[\"Happiness Score\"].sort_values(ascending=False)"
      ]
    },
    {
      "cell_type": "code",
      "execution_count": null,
      "metadata": {},
      "outputs": [],
      "source": [
        "dataset1 = happiness[[\"Happiness Score\",\"Trust (Government Corruption)\",\"Economy (GDP per Capita)\"]]\n",
        "dataset2 = happiness[[\"Happiness Score\",\"Trust (Government Corruption)\",\"Economy (GDP per Capita)\",\"Freedom\",\"Dystopia Residual\"]]\n",
        "dataset3 = happiness[[\"Happiness Score\",\"Trust (Government Corruption)\",\"Freedom\",\"Dystopia Residual\",\"Economy (GDP per Capita)\",\"Health (Life Expectancy)\",\"Family\"]]"
      ]
    },
    {
      "cell_type": "code",
      "execution_count": null,
      "metadata": {},
      "outputs": [],
      "source": [
        "dataset1.head()"
      ]
    },
    {
      "cell_type": "code",
      "execution_count": null,
      "metadata": {},
      "outputs": [],
      "source": [
        "dataset2.head()"
      ]
    },
    {
      "cell_type": "code",
      "execution_count": null,
      "metadata": {},
      "outputs": [],
      "source": [
        "dataset3.head()"
      ]
    },
    {
      "cell_type": "markdown",
      "metadata": {},
      "source": [
        "Lab 4: Using Traffic Dataset (CW dataset)"
      ]
    },
    {
      "cell_type": "code",
      "execution_count": null,
      "metadata": {},
      "outputs": [],
      "source": [
        "x_train = pd.read_csv('./CW/Traffic_Sign/CompleteDataSet/x_train_all.csv')\n",
        "x_test = pd.read_csv('./CW/Traffic_Sign/CompleteDataSet/x_test_all.csv')\n",
        "y_train = pd.read_csv('./CW/Traffic_Sign/CompleteDataSet/y_train_all.csv')\n",
        "y_test = pd.read_csv('./CW/Traffic_Sign/CompleteDataSet/y_test_all.csv')"
      ]
    },
    {
      "cell_type": "code",
      "execution_count": null,
      "metadata": {},
      "outputs": [],
      "source": [
        "from sklearn.ensemble import RandomForestClassifier\n",
        "from sklearn.metrics import accuracy_score, classification_report, precision_score, recall_score, f1_score, confusion_matrix, ConfusionMatrixDisplay\n",
        "from sklearn.metrics import roc_curve, auc\n",
        "from sklearn.preprocessing import label_binarize\n",
        "from sklearn.multiclass import OneVsRestClassifier\n",
        "from sklearn.linear_model import LogisticRegression\n",
        "import matplotlib.pyplot as plt"
      ]
    },
    {
      "cell_type": "code",
      "execution_count": null,
      "metadata": {},
      "outputs": [],
      "source": [
        "clf = RandomForestClassifier() \n",
        "clf.fit(x_train, y_train) #training the classifier on training data\n",
        "y_pred = clf.predict(x_test) #make prediction on test data\n",
        "\n",
        "print(\"Accuracy:\", accuracy_score(y_test, y_pred))\n",
        "print(\"Precision: \" , precision_score(y_test, y_pred, average='weighted')) #weighted average of precision\n",
        "print('Recall score: ', recall_score(y_test, y_pred, average='weighted')) #weighted average of recall score\n",
        "print('F-measure: ', f1_score(y_test, y_pred, average='weighted')) #weighted average of f1 score\n",
        "print(classification_report(y_test, y_pred)) #precision, recall, f1-score, support\n",
        "\n",
        "\n",
        "\n"
      ]
    },
    {
      "cell_type": "code",
      "execution_count": null,
      "metadata": {},
      "outputs": [],
      "source": [
        "#ROC Curve (using OneVsRestClassifier)\n",
        "y_test_binarized = label_binarize(y_test, classes=[0, 1, 2, 3, 4, 5, 6, 7, 8, 9]) #convert the target labels into a binary matrix\n",
        "n_classes = y_test_binarized.shape[1]\n",
        "# Learn to predict each class against the other\n",
        "classifier = OneVsRestClassifier(LogisticRegression()) #using logistic regression as the classifier\n",
        "y_score = classifier.fit(x_train, y_train).decision_function(x_test)\n",
        "\n",
        "# Compute ROC curve and ROC area for each class\n",
        "fpr=dict()\n",
        "tpr=dict()\n",
        "roc_auc=dict()\n",
        "\n",
        "#For each class, we compute fpr, tpr and AUC using the roc_curve and auc functions and store value in a dict\n",
        "for i in range(n_classes):\n",
        "    fpr[i], tpr[i], _ = roc_curve(y_test_binarized[:, i], y_score[:, i])\n",
        "    roc_auc[i] = auc(fpr[i], tpr[i])\n",
        "\n",
        "#Plot ROC curve \n",
        "plt.figure(figsize=(10,10))\n",
        "\n",
        "#Plot each class's ROC curve\n",
        "colors = ['blue', 'red', 'green', 'orange', 'purple', 'brown', 'pink', 'gray', 'olive', 'cyan']\n",
        "for i, color in zip(range(n_classes), colors):\n",
        "    plt.plot(fpr[i], tpr[i], color=color, lw=2, label='ROC curve (area = {:.2f}) for class {}'.format(roc_auc[i], i))\n",
        "\n",
        "plt.plot([0, 1], [0, 1], 'k--', lw=2) #dashed line represents the diagonal (random classifier)\n",
        "plt.xlim([0.0, 1.0])\n",
        "plt.ylim([0.0, 1.05])\n",
        "plt.xlabel('False Positive Rate')\n",
        "plt.ylabel('True Positive Rate')\n",
        "plt.title('ROC Curve for Multiclass Classification')\n",
        "plt.legend(loc=\"lower right\")\n",
        "plt.show()\n",
        "\n",
        "#Output inference:\n",
        "#We can see from the output that the classifier is performing well(good fit) for most of the classes. As we move along the curve towards higher sensitivity (true positive rate), the false positive rate typically increases.\n",
        "#We have added a random classifier in the graph which produces an ROC curve along the diagonal (0,0) to (1,1). A classifier above the diagonal is generally better than random, while below the diagonal is worse than random.\n",
        "#Class 7 dosen't seem to be having the best of performances, but it still has a good fit, above the diagonal(0.5)."
      ]
    },
    {
      "cell_type": "code",
      "execution_count": null,
      "metadata": {},
      "outputs": [],
      "source": [
        "conf_matrix = confusion_matrix(y_test, y_pred)\n",
        "class_names = list(set(y_test) | set(y_pred))\n",
        "cm_display = ConfusionMatrixDisplay(confusion_matrix=conf_matrix)\n",
        "cm_display.plot()\n",
        "plt.show()\n",
        "\n",
        "tpr = conf_matrix[1,1]/(conf_matrix[1,1]+conf_matrix[1,0]) #True Positive Rate\n",
        "fpr = conf_matrix[0,0]/(conf_matrix[0,0]+conf_matrix[0,1]) #False Positive Rate\n",
        "print(\"True Positive Rate: \", tpr)\n",
        "print(\"False Positive Rate: \", fpr)\n"
      ]
    },
    {
      "cell_type": "code",
      "execution_count": null,
      "metadata": {},
      "outputs": [],
      "source": [
        "from sklearn.model_selection import cross_val_score"
      ]
    },
    {
      "cell_type": "code",
      "execution_count": null,
      "metadata": {},
      "outputs": [],
      "source": [
        "scores = cross_val_score(clf, x_train, y_train, cv=5) # It takes care of the process of splitting the dataset, training the model, and evaluating its performance in each fold. cv=5: meaning the dataset will be split into 5 folds, and the training and evaluation process will be repeated 5 times.\n",
        "print(\"Cross-validation scores:\", scores)\n",
        "print(\"Average CV score:\", np.mean(scores))\n",
        "print(\"Standard deviation of accuracy:\", scores.std())\n"
      ]
    },
    {
      "cell_type": "code",
      "execution_count": null,
      "metadata": {},
      "outputs": [],
      "source": [
        "from sklearn.pipeline import Pipeline\n",
        "from sklearn.preprocessing import StandardScaler"
      ]
    },
    {
      "cell_type": "code",
      "execution_count": null,
      "metadata": {},
      "outputs": [],
      "source": [
        "pipeline = Pipeline([ #A pipeline bundles together a sequence of data processing steps along with a machine learning model into a single object\n",
        "    ('scaler', StandardScaler()), #Standardize the features by removing the mean and scaling to unit variance\n",
        "    ('clf', RandomForestClassifier()) #Random Forest Classifier\n",
        "])\n",
        "\n",
        "pipeline.fit(x_train, y_train) #Fit the pipeline on the training data\n",
        "pipeline_predictions = pipeline.predict(x_test) #Predictions on the test set\n",
        "\n",
        "print(\"Pipeline Accuracy:\", accuracy_score(y_test, pipeline_predictions)) #Evaluate the model"
      ]
    }
  ],
  "metadata": {
    "colab": {
      "provenance": []
    },
    "kernelspec": {
      "display_name": "Python 3 (ipykernel)",
      "language": "python",
      "name": "python3"
    },
    "language_info": {
      "codemirror_mode": {
        "name": "ipython",
        "version": 3
      },
      "file_extension": ".py",
      "mimetype": "text/x-python",
      "name": "python",
      "nbconvert_exporter": "python",
      "pygments_lexer": "ipython3",
      "version": "3.10.0"
    }
  },
  "nbformat": 4,
  "nbformat_minor": 0
}
